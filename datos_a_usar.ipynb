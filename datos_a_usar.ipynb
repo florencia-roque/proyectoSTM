{
 "cells": [
  {
   "cell_type": "markdown",
   "metadata": {},
   "source": [
    "# Objetivo\n",
    "\n",
    "Esta notebook tiene como objetivo generar los csv de datos necesarios para ejecutar el proyecto de este repositorio."
   ]
  },
  {
   "cell_type": "markdown",
   "metadata": {},
   "source": [
    "## Procedimiento de la notebook \n",
    "\n",
    "1. Descargar los datos en los links de la celda siguiente\n",
    "2. Descomprimir los archivos zip \n",
    "3. Guardar todos los csv de datos en una subcarpeta \"data\" que debe estar en el mismo directorio que esta notebook \n",
    "4. Correr las celdas de código y como resultado se obtendrán archivos csv con los datos filtrados por la empresa COMESA"
   ]
  },
  {
   "cell_type": "markdown",
   "metadata": {},
   "source": [
    "## Links de descarga de los datos \n",
    "\n",
    "* Febrero 2023: https://ckan-data.montevideo.gub.uy/dataset/1205fc5c-b1b5-4478-b43e-c7411949ff15/resource/ebf2ff2a-8196-47ba-a52d-48bad17f963f/download/qhhhkadnq3kfwd4x67rypa.zip\n",
    "* Marzo 2023: https://ckan-data.montevideo.gub.uy/dataset/1205fc5c-b1b5-4478-b43e-c7411949ff15/resource/2ff2473a-2804-4134-a2f4-12eb2982711a/download/f_ke9soltjillcbpt-huwq.zip\n",
    "* Abril 2023: https://ckan-data.montevideo.gub.uy/dataset/1205fc5c-b1b5-4478-b43e-c7411949ff15/resource/01e47802-7f08-46a4-9947-6a20e67c4826/download/o7elqy0qsei9edql3le8gw.zip\n",
    "* Mayo 2023: https://ckan-data.montevideo.gub.uy/dataset/1205fc5c-b1b5-4478-b43e-c7411949ff15/resource/0a19ea75-dc7e-4148-92a3-51fe976b6dd1/download/xi-_agzwt9afpgbhysquya.zip\n",
    "* Junio 2023: https://imnube.montevideo.gub.uy/share/s/8vn7wA9_QLe73IwDJ1rPhg\n",
    "* Julio 2023: https://imnube.montevideo.gub.uy/share/s/s-U7nBAlSjubKQMSJNktfA\n",
    "* Agosto 2023: https://imnube.montevideo.gub.uy/share/s/kFRP086tRN6ocCrj_55yiw"
   ]
  },
  {
   "cell_type": "code",
   "execution_count": 3,
   "metadata": {},
   "outputs": [],
   "source": [
    "import pandas as pd"
   ]
  },
  {
   "cell_type": "code",
   "execution_count": 2,
   "metadata": {},
   "outputs": [],
   "source": [
    "# febrero \n",
    "data_02 = 'data/viajes_stm_022023.csv'\n",
    "\n",
    "# marzo\n",
    "data_03 = 'data/viajes_stm_032023.csv'\n",
    "\n",
    "# abril\n",
    "data_04 = 'data/viajes_stm_042023.csv'\n",
    "\n",
    "# mayo\n",
    "data_05 = 'data/viajes_stm_052023.csv'\n",
    "\n",
    "# junio\n",
    "data_06 = 'data/viajes_stm_062023.csv'\n",
    "\n",
    "# julio\n",
    "data_07 = 'data/viajes_stm_072023.csv'\n",
    "\n",
    "#agosto\n",
    "data_08 = 'data/viajes_stm_082023.csv'"
   ]
  },
  {
   "cell_type": "code",
   "execution_count": 5,
   "metadata": {},
   "outputs": [],
   "source": [
    "# dataframes de los datos originales\n",
    "df_02 = pd.read_csv(data_02)\n",
    "df_03 = pd.read_csv(data_03)\n",
    "df_04 = pd.read_csv(data_04)\n",
    "df_05 = pd.read_csv(data_05)\n",
    "df_06 = pd.read_csv(data_06)\n",
    "df_07 = pd.read_csv(data_07)\n",
    "df_08 = pd.read_csv(data_08)\n",
    "\n",
    "# cambiar columna de fecha a tipo datetime\n",
    "df_02['fecha_evento'] = pd.to_datetime(df_02['fecha_evento'])\n",
    "df_03['fecha_evento'] = pd.to_datetime(df_03['fecha_evento'])\n",
    "df_04['fecha_evento'] = pd.to_datetime(df_04['fecha_evento'])\n",
    "df_05['fecha_evento'] = pd.to_datetime(df_05['fecha_evento'])\n",
    "df_06['fecha_evento'] = pd.to_datetime(df_06['fecha_evento'])\n",
    "df_07['fecha_evento'] = pd.to_datetime(df_07['fecha_evento'])\n",
    "df_08['fecha_evento'] = pd.to_datetime(df_08['fecha_evento'])"
   ]
  },
  {
   "cell_type": "code",
   "execution_count": null,
   "metadata": {},
   "outputs": [],
   "source": [
    "# dataframes filtrados por empresa COMESA\n",
    "df_comesa_02 = df_02.loc[df_02['descrip_empresa'] == 'C.O.M.E.S.A']\n",
    "df_comesa_03 = df_03.loc[df_03['descrip_empresa'] == 'C.O.M.E.S.A']\n",
    "df_comesa_04 = df_04.loc[df_04['descrip_empresa'] == 'C.O.M.E.S.A']\n",
    "df_comesa_05 = df_05.loc[df_05['descrip_empresa'] == 'C.O.M.E.S.A']\n",
    "df_comesa_06 = df_06.loc[df_06['descrip_empresa'] == 'C.O.M.E.S.A']\n",
    "df_comesa_07 = df_07.loc[df_07['descrip_empresa'] == 'C.O.M.E.S.A']\n",
    "df_comesa_08 = df_08.loc[df_08['descrip_empresa'] == 'C.O.M.E.S.A']"
   ]
  },
  {
   "cell_type": "code",
   "execution_count": null,
   "metadata": {},
   "outputs": [],
   "source": [
    "# guardar los dataframes filtrados en archivos csv\n",
    "df_comesa_02.to_csv('./viajes_stm_022023_comesa.csv')\n",
    "df_comesa_03.to_csv('./viajes_stm_032023_comesa.csv')\n",
    "df_comesa_04.to_csv('./viajes_stm_042023_comesa.csv')\n",
    "df_comesa_05.to_csv('./viajes_stm_052023_comesa.csv')\n",
    "df_comesa_06.to_csv('./viajes_stm_062023_comesa.csv')\n",
    "df_comesa_07.to_csv('./viajes_stm_072023_comesa.csv')\n",
    "df_comesa_08.to_csv('./viajes_stm_082023_comesa.csv')"
   ]
  }
 ],
 "metadata": {
  "kernelspec": {
   "display_name": "Python 3",
   "language": "python",
   "name": "python3"
  },
  "language_info": {
   "codemirror_mode": {
    "name": "ipython",
    "version": 3
   },
   "file_extension": ".py",
   "mimetype": "text/x-python",
   "name": "python",
   "nbconvert_exporter": "python",
   "pygments_lexer": "ipython3",
   "version": "3.11.3"
  }
 },
 "nbformat": 4,
 "nbformat_minor": 2
}
